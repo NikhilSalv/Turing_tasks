{
 "cells": [
  {
   "cell_type": "code",
   "execution_count": 1,
   "id": "57dcb150-8e62-4b10-b914-79625dd93398",
   "metadata": {},
   "outputs": [
    {
     "name": "stdout",
     "output_type": "stream",
     "text": [
      "Cloning into 'Dataset_datascience'...\n",
      "remote: Enumerating objects: 26, done.\u001b[K\n",
      "remote: Counting objects: 100% (26/26), done.\u001b[K\n",
      "remote: Compressing objects: 100% (26/26), done.\u001b[K\n",
      "remote: Total 26 (delta 8), reused 0 (delta 0), pack-reused 0\u001b[K\n",
      "Receiving objects: 100% (26/26), 35.13 MiB | 8.31 MiB/s, done.\n",
      "Resolving deltas: 100% (8/8), done.\n"
     ]
    }
   ],
   "source": [
    "!git clone https://github.com/madhur02/Dataset_datascience.git"
   ]
  },
  {
   "cell_type": "code",
   "execution_count": 5,
   "id": "2a11e140-99a0-4dd8-baaf-b014afc82b70",
   "metadata": {},
   "outputs": [
    {
     "data": {
      "text/html": [
       "<div>\n",
       "<style scoped>\n",
       "    .dataframe tbody tr th:only-of-type {\n",
       "        vertical-align: middle;\n",
       "    }\n",
       "\n",
       "    .dataframe tbody tr th {\n",
       "        vertical-align: top;\n",
       "    }\n",
       "\n",
       "    .dataframe thead th {\n",
       "        text-align: right;\n",
       "    }\n",
       "</style>\n",
       "<table border=\"1\" class=\"dataframe\">\n",
       "  <thead>\n",
       "    <tr style=\"text-align: right;\">\n",
       "      <th></th>\n",
       "      <th>Customer_ID</th>\n",
       "      <th>Order ID</th>\n",
       "      <th>Product Category</th>\n",
       "      <th>Product</th>\n",
       "      <th>Quantity Ordered</th>\n",
       "      <th>Price Each</th>\n",
       "      <th>Order Date</th>\n",
       "      <th>Purchase Address</th>\n",
       "      <th>Sales</th>\n",
       "      <th>City</th>\n",
       "      <th>Hour</th>\n",
       "      <th>Time of Day</th>\n",
       "    </tr>\n",
       "  </thead>\n",
       "  <tbody>\n",
       "    <tr>\n",
       "      <th>0</th>\n",
       "      <td>0</td>\n",
       "      <td>295665</td>\n",
       "      <td>Laptops and Computers</td>\n",
       "      <td>Macbook Pro Laptop</td>\n",
       "      <td>1</td>\n",
       "      <td>$1,700.00</td>\n",
       "      <td>30/12/19 0:01</td>\n",
       "      <td>136 Church St, New York City, NY 10001</td>\n",
       "      <td>$1,700.00</td>\n",
       "      <td>New York City</td>\n",
       "      <td>0</td>\n",
       "      <td>Night</td>\n",
       "    </tr>\n",
       "    <tr>\n",
       "      <th>1</th>\n",
       "      <td>1</td>\n",
       "      <td>295666</td>\n",
       "      <td>Home Appliances</td>\n",
       "      <td>LG Washing Machine</td>\n",
       "      <td>1</td>\n",
       "      <td>$600.00</td>\n",
       "      <td>29/12/19 7:03</td>\n",
       "      <td>562 2nd St, New York City, NY 10001</td>\n",
       "      <td>$600.00</td>\n",
       "      <td>New York City</td>\n",
       "      <td>7</td>\n",
       "      <td>Morning</td>\n",
       "    </tr>\n",
       "    <tr>\n",
       "      <th>2</th>\n",
       "      <td>2</td>\n",
       "      <td>295667</td>\n",
       "      <td>Charging Cables</td>\n",
       "      <td>USB-C Charging Cable</td>\n",
       "      <td>1</td>\n",
       "      <td>$11.95</td>\n",
       "      <td>12/12/19 18:21</td>\n",
       "      <td>277 Main St, New York City, NY 10001</td>\n",
       "      <td>$11.95</td>\n",
       "      <td>New York City</td>\n",
       "      <td>18</td>\n",
       "      <td>Evening</td>\n",
       "    </tr>\n",
       "    <tr>\n",
       "      <th>3</th>\n",
       "      <td>3</td>\n",
       "      <td>295668</td>\n",
       "      <td>Monitors</td>\n",
       "      <td>27in FHD Monitor</td>\n",
       "      <td>1</td>\n",
       "      <td>$149.99</td>\n",
       "      <td>22/12/19 15:13</td>\n",
       "      <td>410 6th St, San Francisco, CA 94016</td>\n",
       "      <td>$149.99</td>\n",
       "      <td>San Francisco</td>\n",
       "      <td>15</td>\n",
       "      <td>Afternoon</td>\n",
       "    </tr>\n",
       "    <tr>\n",
       "      <th>4</th>\n",
       "      <td>4</td>\n",
       "      <td>295669</td>\n",
       "      <td>Charging Cables</td>\n",
       "      <td>USB-C Charging Cable</td>\n",
       "      <td>1</td>\n",
       "      <td>$11.95</td>\n",
       "      <td>18/12/19 12:38</td>\n",
       "      <td>43 Hill St, Atlanta, GA 30301</td>\n",
       "      <td>$11.95</td>\n",
       "      <td>Atlanta</td>\n",
       "      <td>12</td>\n",
       "      <td>Afternoon</td>\n",
       "    </tr>\n",
       "  </tbody>\n",
       "</table>\n",
       "</div>"
      ],
      "text/plain": [
       "   Customer_ID  Order ID       Product Category               Product  \\\n",
       "0            0    295665  Laptops and Computers    Macbook Pro Laptop   \n",
       "1            1    295666        Home Appliances    LG Washing Machine   \n",
       "2            2    295667        Charging Cables  USB-C Charging Cable   \n",
       "3            3    295668               Monitors      27in FHD Monitor   \n",
       "4            4    295669        Charging Cables  USB-C Charging Cable   \n",
       "\n",
       "   Quantity Ordered Price Each      Order Date  \\\n",
       "0                 1  $1,700.00   30/12/19 0:01   \n",
       "1                 1    $600.00   29/12/19 7:03   \n",
       "2                 1     $11.95  12/12/19 18:21   \n",
       "3                 1    $149.99  22/12/19 15:13   \n",
       "4                 1     $11.95  18/12/19 12:38   \n",
       "\n",
       "                         Purchase Address      Sales            City  Hour  \\\n",
       "0  136 Church St, New York City, NY 10001  $1,700.00   New York City     0   \n",
       "1     562 2nd St, New York City, NY 10001    $600.00   New York City     7   \n",
       "2    277 Main St, New York City, NY 10001     $11.95   New York City    18   \n",
       "3     410 6th St, San Francisco, CA 94016    $149.99   San Francisco    15   \n",
       "4           43 Hill St, Atlanta, GA 30301     $11.95         Atlanta    12   \n",
       "\n",
       "  Time of Day  \n",
       "0       Night  \n",
       "1     Morning  \n",
       "2     Evening  \n",
       "3   Afternoon  \n",
       "4   Afternoon  "
      ]
     },
     "execution_count": 5,
     "metadata": {},
     "output_type": "execute_result"
    }
   ],
   "source": [
    "# !git clone https://github.com/madhur02/Dataset_datascience.git\n",
    "import pandas as pd\n",
    "import numpy as np\n",
    "sales_data = pd.read_csv(\"Dataset_datascience/SalesDataAnalysis.csv\")\n",
    "sales_data.head()"
   ]
  },
  {
   "cell_type": "markdown",
   "id": "1ac28d5e-204c-4a76-9d3e-03037ad9022e",
   "metadata": {},
   "source": [
    "## Question 1: How much revenue was generated from the three top-selling product categories?\n",
    "\n",
    "> Add blockquote\n",
    "\n"
   ]
  },
  {
   "cell_type": "markdown",
   "id": "ba6c841a-5db8-464d-8470-6f7b1d222e1b",
   "metadata": {},
   "source": [
    "## Question 2: What percentage of overall Sales do each of the categories contribute in 2019?"
   ]
  },
  {
   "cell_type": "markdown",
   "id": "fe380541-9c8b-4db5-bf45-914481e26e8b",
   "metadata": {},
   "source": [
    "## Question 3:  Which product category shows the widest price range of products?\n"
   ]
  },
  {
   "cell_type": "markdown",
   "id": "7e53c99a-be81-4486-989e-ff14d1a8a5ac",
   "metadata": {},
   "source": [
    "## Question 4: Plot the Sales trend for iPhone on a Monthly basis."
   ]
  },
  {
   "cell_type": "markdown",
   "id": "9cae2d63-49f8-4b4c-876d-e53fbb5f3299",
   "metadata": {},
   "source": [
    "## Question 5: For every city, list the products that have not yet been sold in that city."
   ]
  },
  {
   "cell_type": "markdown",
   "id": "94a6f8ee-d156-4d2f-a05e-a671f9f7fdf6",
   "metadata": {},
   "source": [
    "## Question 6: List the top 3 cities in terms of the number of orders for each time of the day (Morning/Afternoon/Evening/Night)."
   ]
  },
  {
   "cell_type": "markdown",
   "id": "541bbc6b-ae8a-4162-8e53-e204c5eb874e",
   "metadata": {},
   "source": [
    "## Question 7: Find the top 3 customers by Sales."
   ]
  },
  {
   "cell_type": "code",
   "execution_count": null,
   "id": "d97e9fc8-fe28-4cb4-b946-3932451d488d",
   "metadata": {},
   "outputs": [],
   "source": []
  }
 ],
 "metadata": {
  "kernelspec": {
   "display_name": "Python 3 (ipykernel)",
   "language": "python",
   "name": "python3"
  },
  "language_info": {
   "codemirror_mode": {
    "name": "ipython",
    "version": 3
   },
   "file_extension": ".py",
   "mimetype": "text/x-python",
   "name": "python",
   "nbconvert_exporter": "python",
   "pygments_lexer": "ipython3",
   "version": "3.11.9"
  }
 },
 "nbformat": 4,
 "nbformat_minor": 5
}
