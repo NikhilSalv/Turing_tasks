{
 "cells": [
  {
   "cell_type": "markdown",
   "id": "29d1bbe7-a1ac-4cc3-81f4-455e363e6dbc",
   "metadata": {},
   "source": [
    "# Questions on Python Function\n",
    "\n",
    "**Questions and the evaluation criterion in each questions..**\n",
    "\n",
    "* Q1 : Majority Element : Conditional selection, Loops and functions\n",
    "* Q2 : Longest Common substring\n",
    "* Q3 : Find Unique Email : Pandas and dataframe operations\n",
    "* Q4 : Object Oriented Programing\n",
    "* Q5 : File Operation : Read/write operations\n",
    "* Q6 : Flask API :  Get and Post methods\n",
    "* Q7 : Handling Error in API : Error handling, request module, Handling json content."
   ]
  },
  {
   "cell_type": "markdown",
   "id": "2dcc5e32-27da-42a2-9329-18f0d06bd47d",
   "metadata": {},
   "source": [
    "## 1. Write a python function that find the majority element.\n",
    "\n",
    "The majority element is the element that appears more than ⌊n / 2⌋ times. You may assume that the majority element always exists in the array.\n",
    "\n",
    "\n",
    "\n",
    "**Example 1:**\n",
    "\n",
    "Input: nums = [3,2,3]\n",
    "Output: 3\n",
    "\n",
    "**Example 2:**\n",
    "\n",
    "Input: nums = [2,2,1,1,1,2,2]\n",
    "Output: 2"
   ]
  },
  {
   "cell_type": "code",
   "execution_count": 19,
   "id": "318640d1-8a43-4e7e-a3f0-48522a85bc43",
   "metadata": {},
   "outputs": [
    {
     "name": "stdout",
     "output_type": "stream",
     "text": [
      "updated now{2: 1}\n",
      "updated now{2: 2, 1: 1}\n"
     ]
    },
    {
     "data": {
      "text/plain": [
       "{2: 4, 1: 3}"
      ]
     },
     "execution_count": 19,
     "metadata": {},
     "output_type": "execute_result"
    }
   ],
   "source": [
    "def majority_element(nums):\n",
    "    count_dict = {}\n",
    "    for i in nums:\n",
    "        if i in count_dict.keys():\n",
    "            \n",
    "            count_dict[i] += 1\n",
    "        else:\n",
    "            count_dict[i] = 1\n",
    "            print(\"updated now\" + str(count_dict))\n",
    "    return count_dict\n",
    "\n",
    "\n",
    "nums = [2,2,1,1,1,2,2] \n",
    "\n",
    "majority_element(nums)\n"
   ]
  },
  {
   "cell_type": "code",
   "execution_count": 33,
   "id": "d4fc4af1-d46c-4880-85e4-94491db168c9",
   "metadata": {},
   "outputs": [
    {
     "data": {
      "text/plain": [
       "2"
      ]
     },
     "execution_count": 33,
     "metadata": {},
     "output_type": "execute_result"
    }
   ],
   "source": [
    "my_dict = {2: 8, 1: 6}\n",
    "max(my_dict , key=lambda k: my_dict[k]) "
   ]
  },
  {
   "cell_type": "code",
   "execution_count": 40,
   "id": "96da2517-c2b7-4ad2-87af-57cc7950c638",
   "metadata": {},
   "outputs": [
    {
     "name": "stdout",
     "output_type": "stream",
     "text": [
      "updated now{2: 1}\n",
      "updated now{2: 2, 1: 1}\n"
     ]
    },
    {
     "data": {
      "text/plain": [
       "2"
      ]
     },
     "execution_count": 40,
     "metadata": {},
     "output_type": "execute_result"
    }
   ],
   "source": [
    "def majority_element(nums):\n",
    "    count_dict = {}\n",
    "    for i in nums:\n",
    "        if i in count_dict.keys():\n",
    "            \n",
    "            count_dict[i] += 1\n",
    "        else:\n",
    "            count_dict[i] = 1\n",
    "            print(\"updated now\" + str(count_dict))\n",
    "    return count_dict\n",
    "\n",
    "nums = [2,2,1,1,1,2,2] \n",
    "\n",
    "result = majority_element(nums)\n",
    "max(result, key=lambda k: result[k])"
   ]
  },
  {
   "cell_type": "code",
   "execution_count": 20,
   "id": "c0affbfe-03fd-4ff6-8363-347978007b02",
   "metadata": {},
   "outputs": [
    {
     "name": "stdout",
     "output_type": "stream",
     "text": [
      "updated now{3: 1}\n",
      "updated now{3: 1, 2: 1}\n"
     ]
    },
    {
     "data": {
      "text/plain": [
       "{3: 2, 2: 1}"
      ]
     },
     "execution_count": 20,
     "metadata": {},
     "output_type": "execute_result"
    }
   ],
   "source": [
    "nums2 = [3,2,3]\n",
    "majority_element(nums2)"
   ]
  },
  {
   "cell_type": "code",
   "execution_count": 34,
   "id": "cd6176fe-ac0b-4728-935a-3b37ba395c30",
   "metadata": {},
   "outputs": [],
   "source": [
    "# Solution 2 :\n",
    "def majority_element_solut2(nums):\n",
    "    count = 0\n",
    "    candidate = None\n",
    "    for num in nums:\n",
    "        if count == 0:\n",
    "            candidate = num\n",
    "            count += 1\n",
    "        elif num == candidate:\n",
    "            count += 1\n",
    "        else:\n",
    "            count -= 1\n",
    "    return candidate"
   ]
  },
  {
   "cell_type": "code",
   "execution_count": 36,
   "id": "65cd3fea-9f59-4a75-870f-fda4a225886d",
   "metadata": {},
   "outputs": [
    {
     "data": {
      "text/plain": [
       "2"
      ]
     },
     "execution_count": 36,
     "metadata": {},
     "output_type": "execute_result"
    }
   ],
   "source": [
    "nums2 = [3,2,3]\n",
    "majority_element_solut2(nums)"
   ]
  },
  {
   "cell_type": "code",
   "execution_count": 48,
   "id": "b01a322f-44ae-4694-9b73-f76f463e2c13",
   "metadata": {},
   "outputs": [
    {
     "data": {
      "text/plain": [
       "4"
      ]
     },
     "execution_count": 48,
     "metadata": {},
     "output_type": "execute_result"
    }
   ],
   "source": [
    "key=lambda k: k +1\n",
    "key(3)"
   ]
  },
  {
   "cell_type": "code",
   "execution_count": 50,
   "id": "8f8564bd-fb5e-4cf7-a8f4-4b98e8c70140",
   "metadata": {},
   "outputs": [
    {
     "data": {
      "text/plain": [
       "10"
      ]
     },
     "execution_count": 50,
     "metadata": {},
     "output_type": "execute_result"
    }
   ],
   "source": [
    "my_dict = {'a': 10, 'b': 25, 'c': 15, 'd': 30}\n",
    "key=lambda k: my_dict[k]\n",
    "key('a')"
   ]
  },
  {
   "cell_type": "code",
   "execution_count": 51,
   "id": "c89853d6-37f2-4434-afcc-bd48fde37350",
   "metadata": {},
   "outputs": [
    {
     "name": "stdout",
     "output_type": "stream",
     "text": [
      "{'name': 'Alice', 'age': 24}\n"
     ]
    }
   ],
   "source": [
    "students = [\n",
    "    {'name': 'Alice', 'age': 24},\n",
    "    {'name': 'Bob', 'age': 19},\n",
    "    {'name': 'Charlie', 'age': 22}\n",
    "]\n",
    "\n",
    "# Find the student with the maximum age\n",
    "oldest_student = max(students, key=lambda s: s['age'])\n",
    "print(oldest_student)  # Output: {'name': 'Alice', 'age': 24}"
   ]
  },
  {
   "cell_type": "markdown",
   "id": "ce68fffa-9c2c-4280-8528-0625744c3303",
   "metadata": {},
   "source": [
    "## 2. Get the longest common substring (prefix) in a given python list.\n",
    "\n",
    "**Write a Python function to get the longest common substring in a given python list.**\n",
    "* Example1: input_string_lst = ['flower','flow','flaunt']\n",
    " **Expected output is : 'fl'   As fl is common among all substrings.**\n",
    "\n",
    "* Example2: input_string_lst = ['flower','flow','flaunt',\"\"]\n",
    " **Expected output is : ''   Due to empty  string longest common substring is \"\".**"
   ]
  },
  {
   "cell_type": "code",
   "execution_count": 57,
   "id": "23c9f282-519d-42e8-9e81-c0794c149c9e",
   "metadata": {},
   "outputs": [],
   "source": [
    "def longest_common_prefix(input_string_lst):\n",
    "    if not input_string_lst or \"\" in input_string_lst:\n",
    "        return \"\"\n",
    "    \n",
    "    else:\n",
    "        prefix = input_string_lst[0]\n",
    "        \n",
    "        for string in input_string_lst[1:]:\n",
    "            while string[:len(prefix)] != prefix:\n",
    "                prefix = prefix[:-1]\n",
    "        # return prefix\n",
    "    return prefix"
   ]
  },
  {
   "cell_type": "code",
   "execution_count": 60,
   "id": "7a5d4938-4ce8-452f-8816-f06d33479e24",
   "metadata": {},
   "outputs": [
    {
     "data": {
      "text/plain": [
       "'fl'"
      ]
     },
     "execution_count": 60,
     "metadata": {},
     "output_type": "execute_result"
    }
   ],
   "source": [
    "input_string_lst = ['flower','flow','flaunt']\n",
    "longest_common_prefix(input_string_lst)"
   ]
  },
  {
   "cell_type": "markdown",
   "id": "98b0d831-0911-4ea1-b94c-1dbf91dfd190",
   "metadata": {},
   "source": [
    "## 3. Find Duplicate Email:  \n",
    "Write a python function which will accept the pandas dataframe as input and return email_id column which is repeated(Duplicates).\n",
    "Input to the function will be a dataframe:\n",
    "\n",
    "**Person_email**\n",
    "\n",
    "| ID   |      email      |\n",
    "|----------|:-------------:|\n",
    "| 1 |a@b.com |\n",
    "| 2 |c@d.com |\n",
    "| 3 |a@b.com |\n",
    "\n",
    "\n",
    "**Expected Output:**\n",
    "\n",
    "|    |      email      |\n",
    "|----------|:-------------:|\n",
    "| 1 |a@b.com |\n",
    "\n",
    "\n",
    "\n",
    "\n",
    "\n",
    "\n",
    "Below code can be used to create dataframe with values:"
   ]
  },
  {
   "cell_type": "code",
   "execution_count": 61,
   "id": "7b2ff0f2-955e-44fc-8f1b-c1150824aa43",
   "metadata": {},
   "outputs": [],
   "source": [
    "import pandas as pd\n",
    "df = pd.DataFrame([[1,'a@b.com'],[2,'c@d.com'],[3,'a@b.com']],columns = ['id','email'])"
   ]
  },
  {
   "cell_type": "code",
   "execution_count": 62,
   "id": "5fa07149-26e2-466e-90d1-f8d09ca1a428",
   "metadata": {},
   "outputs": [
    {
     "data": {
      "text/html": [
       "<div>\n",
       "<style scoped>\n",
       "    .dataframe tbody tr th:only-of-type {\n",
       "        vertical-align: middle;\n",
       "    }\n",
       "\n",
       "    .dataframe tbody tr th {\n",
       "        vertical-align: top;\n",
       "    }\n",
       "\n",
       "    .dataframe thead th {\n",
       "        text-align: right;\n",
       "    }\n",
       "</style>\n",
       "<table border=\"1\" class=\"dataframe\">\n",
       "  <thead>\n",
       "    <tr style=\"text-align: right;\">\n",
       "      <th></th>\n",
       "      <th>0</th>\n",
       "    </tr>\n",
       "  </thead>\n",
       "  <tbody>\n",
       "    <tr>\n",
       "      <th>0</th>\n",
       "      <td>a@b.com</td>\n",
       "    </tr>\n",
       "    <tr>\n",
       "      <th>1</th>\n",
       "      <td>c@d.com</td>\n",
       "    </tr>\n",
       "  </tbody>\n",
       "</table>\n",
       "</div>"
      ],
      "text/plain": [
       "         0\n",
       "0  a@b.com\n",
       "1  c@d.com"
      ]
     },
     "execution_count": 62,
     "metadata": {},
     "output_type": "execute_result"
    }
   ],
   "source": [
    "###write your code here, emails occured only once.\n",
    "def unique_emails(df):\n",
    "  email_set = set()\n",
    "  for email in df['email']:\n",
    "    email_set.add(email)\n",
    "    output_df = pd.DataFrame(email_set)\n",
    "  return output_df\n",
    "\n",
    "unique_emails(df)\n",
    "# print(result)\n"
   ]
  },
  {
   "cell_type": "markdown",
   "id": "41f82e0c-a5e9-4a33-90ac-0ef7dc48a3dc",
   "metadata": {},
   "source": [
    "## 4. Object Oriented Programming Challenge\n",
    "\n",
    "Create a bank account class that has two attributes:\n",
    "\n",
    "* owner\n",
    "* balance\n",
    "\n",
    "and two methods:\n",
    "\n",
    "* deposit\n",
    "* withdraw\n",
    "\n",
    "As an added requirement, withdrawals may not exceed the available balance.\n",
    "\n",
    "1. Instantiate your class,\n",
    "2. Make several deposits and withdrawals, and\n",
    "3. Test to make sure the account can't be overdrawn."
   ]
  },
  {
   "cell_type": "code",
   "execution_count": 93,
   "id": "18421b36-1b7d-4b3a-92bb-d4f1c007d964",
   "metadata": {},
   "outputs": [],
   "source": [
    "class BankAccount:\n",
    "    def __init__(self,owner,balance=100000):\n",
    "        self.owner = owner\n",
    "        self.balance = balance\n",
    "\n",
    "    def __str__(self):\n",
    "        \n",
    "        return f'Account owner:   {self.owner}\\nAccount balance: ${self.balance}'\n",
    "\n",
    "    def deposit(self,dep_amt):\n",
    "        self.balance += dep_amt\n",
    "\n",
    "    def withdraw(self,wd_amt):\n",
    "        if self.balance < wd_amt:\n",
    "            raise ValueError(\"Insufficient Balance\")\n",
    "        else:\n",
    "            self.balance -= wd_amt\n",
    "            return (f\"Updated balance is {self.balance}\")"
   ]
  },
  {
   "cell_type": "code",
   "execution_count": 94,
   "id": "0808dbf0-9342-45e2-b5bd-fbe685e1c6cf",
   "metadata": {},
   "outputs": [],
   "source": [
    "obj = BankAccount(\"Nikhil\")"
   ]
  },
  {
   "cell_type": "code",
   "execution_count": 99,
   "id": "3c3d4d87-9bbc-4135-a676-847cdc8dea6d",
   "metadata": {},
   "outputs": [
    {
     "data": {
      "text/plain": [
       "85000"
      ]
     },
     "execution_count": 99,
     "metadata": {},
     "output_type": "execute_result"
    }
   ],
   "source": [
    "obj.balance"
   ]
  },
  {
   "cell_type": "code",
   "execution_count": 96,
   "id": "01bd1174-aefa-4675-9cd9-45a6a976f448",
   "metadata": {},
   "outputs": [],
   "source": [
    "obj.deposit(5000)"
   ]
  },
  {
   "cell_type": "code",
   "execution_count": 98,
   "id": "b67bd222-d6ec-4424-bda9-8a7b61255a63",
   "metadata": {},
   "outputs": [
    {
     "data": {
      "text/plain": [
       "'Updated balance is 85000'"
      ]
     },
     "execution_count": 98,
     "metadata": {},
     "output_type": "execute_result"
    }
   ],
   "source": [
    "obj.withdraw(20000)"
   ]
  },
  {
   "cell_type": "markdown",
   "id": "4f0fb527-6a7b-4d54-90d1-710daaa143eb",
   "metadata": {},
   "source": [
    "### 5. Object oriented another question.\n",
    "\n",
    "* BaseProcessor Class:\n",
    "   Contains a method remove_punctuation which removes all punctuation from a given string.\n",
    "* AdvancedProcessor Class: Inherits from BaseProcessor.\n",
    "  * Contains a method is_prime to check if a number is prime.\n",
    "  * Contains a method filter_primes which filters prime numbers from a given list of integers using the is_prime method.\n"
   ]
  },
  {
   "cell_type": "code",
   "execution_count": 170,
   "id": "233fb2a7-ba76-49aa-8e5c-97a7bf15ebd0",
   "metadata": {},
   "outputs": [],
   "source": [
    "import string\n",
    "\n",
    "# Base class\n",
    "class BaseProcessor:\n",
    "    def __init__(self):\n",
    "        pass\n",
    "\n",
    "    # Method to remove punctuation from a string\n",
    "    def remove_punctuation(self, input_string):\n",
    "        clear_string = \"\"\n",
    "        for char in input_string:\n",
    "            \n",
    "            if char in string.punctuation:\n",
    "                # print(char)\n",
    "                continue\n",
    "            else:\n",
    "                clear_string += char\n",
    "        return clear_string\n",
    "        \n",
    "\n",
    "# Inherited class\n",
    "class AdvancedProcessor(BaseProcessor):\n",
    "    def __init__(self):\n",
    "        ### Complete the initialisation of base class\n",
    "        pass\n",
    "\n",
    "    # Method to check if a number is prime\n",
    "    def is_prime(self, num):\n",
    "        if num <= 1:\n",
    "            return False\n",
    "        for i in range(2, int(num**0.5) + 1):\n",
    "            if num % i == 0:\n",
    "                return False\n",
    "        return True\n",
    "\n",
    "    # Method to filter prime numbers from a list\n",
    "    def filter_primes(self, num_list):\n",
    "        prime_list = []\n",
    "        for num in num_list:\n",
    "            if self.is_prime(num):\n",
    "                prime_list.append(num)\n",
    "        return prime_list"
   ]
  },
  {
   "cell_type": "code",
   "execution_count": 171,
   "id": "fe58ff7f-cf18-49e3-a45b-f31387b2d774",
   "metadata": {},
   "outputs": [
    {
     "data": {
      "text/plain": [
       "'jidfvhjdfjiosfjlisjdvs'"
      ]
     },
     "execution_count": 171,
     "metadata": {},
     "output_type": "execute_result"
    }
   ],
   "source": [
    "obj = BaseProcessor()\n",
    "obj.remove_punctuation(\"jidfvhjdf,jiosf,!!jlisj$$dvs\")"
   ]
  },
  {
   "cell_type": "code",
   "execution_count": 145,
   "id": "6824a21e-5b97-41ce-ac0f-9d6337f1411d",
   "metadata": {},
   "outputs": [
    {
     "data": {
      "text/plain": [
       "True"
      ]
     },
     "execution_count": 145,
     "metadata": {},
     "output_type": "execute_result"
    }
   ],
   "source": [
    "obj2 = AdvancedProcessor()\n",
    "obj2.is_prime(3)"
   ]
  },
  {
   "cell_type": "code",
   "execution_count": 146,
   "id": "7c6d3767-34c2-4e77-b422-d0b5831c72fe",
   "metadata": {},
   "outputs": [
    {
     "data": {
      "text/plain": [
       "[2, 23, 31, 7, 13, 41, 23, 13]"
      ]
     },
     "execution_count": 146,
     "metadata": {},
     "output_type": "execute_result"
    }
   ],
   "source": [
    "numbers = [1,2,23,31,7,13,41,23,22,13,45,100]\n",
    "obj2.filter_primes(numbers)"
   ]
  },
  {
   "cell_type": "markdown",
   "id": "12f3d3f8-51e4-4f76-9376-992b6151ef84",
   "metadata": {},
   "source": [
    "## 6. File Operations\n",
    "\n",
    "Here we have a root directory which contains subfolders and each subfolder contains some text files. **Task is to read the content of each file and create a dictionary using each file name as key and content of the file will be the value of dictionary. Use Root folder path as refrence path and navigate to each file inside subdirectory.**\n"
   ]
  },
  {
   "cell_type": "code",
   "execution_count": 147,
   "id": "7bc698d4-6d00-470c-a717-1e5c1b05bb16",
   "metadata": {},
   "outputs": [],
   "source": [
    "!mkdir main_folder\n",
    "!mkdir main_folder/sub_folder_1\n",
    "!mkdir main_folder/sub_folder_2\n",
    "!mkdir main_folder/sub_folder_3"
   ]
  },
  {
   "cell_type": "code",
   "execution_count": 155,
   "id": "1b716d96-5e3d-4ab0-a5de-6f4e683c1928",
   "metadata": {},
   "outputs": [
    {
     "name": "stdout",
     "output_type": "stream",
     "text": [
      "Overwriting main_folder/sub_folder_1/file_1.txt\n"
     ]
    }
   ],
   "source": [
    "%%writefile main_folder/sub_folder_1/file_1.txt\n",
    "This is the content of file 1."
   ]
  },
  {
   "cell_type": "code",
   "execution_count": 156,
   "id": "354c0144-d5ee-4aec-a0f1-f9575ddd4dbd",
   "metadata": {},
   "outputs": [
    {
     "name": "stdout",
     "output_type": "stream",
     "text": [
      "Overwriting main_folder/sub_folder_1/file_2.txt\n"
     ]
    }
   ],
   "source": [
    "%%writefile main_folder/sub_folder_1/file_2.txt\n",
    "This is the content of file 2."
   ]
  },
  {
   "cell_type": "code",
   "execution_count": 157,
   "id": "5ad40ec0-6018-49a1-a755-a60b363d05cc",
   "metadata": {},
   "outputs": [
    {
     "name": "stdout",
     "output_type": "stream",
     "text": [
      "Overwriting main_folder/sub_folder_2/file_3.txt\n"
     ]
    }
   ],
   "source": [
    "%%writefile main_folder/sub_folder_2/file_3.txt\n",
    "This is the content of file 3."
   ]
  },
  {
   "cell_type": "code",
   "execution_count": 158,
   "id": "30eb4b03-a062-423f-8556-fe790c31fae9",
   "metadata": {},
   "outputs": [
    {
     "name": "stdout",
     "output_type": "stream",
     "text": [
      "Overwriting main_folder/sub_folder_2/file_4.txt\n"
     ]
    }
   ],
   "source": [
    "%%writefile main_folder/sub_folder_2/file_4.txt\n",
    "This is the content of file 4."
   ]
  },
  {
   "cell_type": "code",
   "execution_count": 159,
   "id": "d9a24f5b-8c18-4913-8ac9-0f946199488c",
   "metadata": {},
   "outputs": [
    {
     "name": "stdout",
     "output_type": "stream",
     "text": [
      "Writing main_folder/sub_folder_3/file_5.txt\n"
     ]
    }
   ],
   "source": [
    "%%writefile main_folder/sub_folder_3/file_5.txt\n",
    "This is the content of file 5."
   ]
  },
  {
   "cell_type": "code",
   "execution_count": 168,
   "id": "7fb5ba66-9bf2-4382-ba44-3b4cfae92e08",
   "metadata": {},
   "outputs": [],
   "source": [
    "import os\n",
    "path = r\"main_folder\"\n",
    "cont_dict = {}\n",
    "for file in os.listdir(path):\n",
    "    full_path = os.path.join(path,file)\n",
    "    if os.path.isdir(full_path):\n",
    "        for file in os.listdir(full_path):\n",
    "            inside_dir = os.path.join(full_path,file)\n",
    "            if os.path.isdir(inside_dir):\n",
    "                pass\n",
    "            else:\n",
    "                with open(inside_dir, \"r\") as afile:\n",
    "                    content = afile.read()\n",
    "                    cont_dict[file] = content"
   ]
  },
  {
   "cell_type": "code",
   "execution_count": 169,
   "id": "8864ad7c-052a-4ba2-8fd3-90368c165e6f",
   "metadata": {},
   "outputs": [
    {
     "data": {
      "text/plain": [
       "{'file_5.txt': 'This is the content of file 5.\\n',\n",
       " 'file_4.txt': 'This is the content of file 4.\\n',\n",
       " 'file_3.txt': 'This is the content of file 3.\\n',\n",
       " 'file_1.txt': 'This is the content of file 1.\\n',\n",
       " 'file_2.txt': 'This is the content of file 2.\\n'}"
      ]
     },
     "execution_count": 169,
     "metadata": {},
     "output_type": "execute_result"
    }
   ],
   "source": [
    "cont_dict"
   ]
  },
  {
   "cell_type": "markdown",
   "id": "ab9cef18-ac0b-42d9-ba1b-f5d9ea48a7e0",
   "metadata": {},
   "source": [
    "## 6. Flask API\n",
    "\n",
    "There are two functions: One function to just return or print the data sent through GET or POST and another function to calculate the square of a number sent through GET request and print it.\n",
    "\n",
    "**Find the issue with the code and fix it.**"
   ]
  },
  {
   "cell_type": "code",
   "execution_count": 179,
   "id": "be4570e8-6d5e-4814-9a0b-db8d3d5dc668",
   "metadata": {},
   "outputs": [],
   "source": [
    "# # Using flask to make an api\n",
    "# # import necessary libraries and functions\n",
    "# from flask import Flask, jsonify, request\n",
    "# # creating a Flask app\n",
    "# app = Flask(__name__)\n",
    "# @app.route('/', methods = ['GET', 'POST'])\n",
    "# def home():\n",
    "#     if(request.method == 'GET'):\n",
    "#         data = \"hello world\"\n",
    "#         return jsonify({'data': data}) # indentation error\n",
    "\n",
    "# # this returns 100 (square of 10)\n",
    "# @app.route('/route2', methods = ['GET']) # Routes should be uniques\n",
    "# def disp():\n",
    "#     num = request.args.get(\"num\", default=1, type=int)\n",
    "#     return jsonify({'data': num**2})\n",
    "\n",
    "# if __name__ == '__main__':\n",
    "#     app.run(debug = True)"
   ]
  },
  {
   "cell_type": "markdown",
   "id": "76c85f91-eef7-4252-b7da-7d89c274e352",
   "metadata": {},
   "source": [
    "## Flask API : Option 2:\n",
    "\n",
    "Explain the below code and Identify if any issue with the code and fix it."
   ]
  },
  {
   "cell_type": "code",
   "execution_count": 181,
   "id": "47b511a2-a9d0-48f5-9043-ff561211bcc1",
   "metadata": {},
   "outputs": [],
   "source": [
    "# from flask import Flask, request, jsonify\n",
    "\n",
    "# app = Flask(__name__)\n",
    "\n",
    "\n",
    "# items = [\n",
    "#     {\"id\": 1, \"name\": \"Item 1\"},\n",
    "#     {\"id\": 2, \"name\": \"Item 2\"}\n",
    "# ]\n",
    "\n",
    "# def find_item(item_id):\n",
    "#     return next((item for item in items if item['id'] == item_id), None)\n",
    "\n",
    "\n",
    "# @app.route('/items/<int:item_id>', methods=['PUT'])\n",
    "# def update_item(item_id):\n",
    "#     item = find_item(item_id)\n",
    "#     if item is None:\n",
    "#         return jsonify({\"error\": \"Item not found\"}), 404\n",
    "\n",
    "#     data = request.get_json()\n",
    "#     if not data or 'name' not in data:\n",
    "#         return jsonify({\"error\": \"Invalid input\"}), 400\n",
    "\n",
    "#     item['name'] = data['name']\n",
    "#     return jsonify(item)\n",
    "\n",
    "\n",
    "# @app.route('/items/<int:item_id>', methods=['PATCH'])\n",
    "# def partially_update_item(item_id):\n",
    "#     item = find_item(item_id)\n",
    "#     if item is None:\n",
    "#         return jsonify({\"error\": \"Item not found\"}), 404\n",
    "\n",
    "#     data = request.get_json()\n",
    "#     if not data:\n",
    "#         return jsonify({\"error\": \"Invalid input\"}), 400\n",
    "\n",
    "#     if 'name' in data:\n",
    "#         item['name'] = data['name']\n",
    "\n",
    "#     return jsonify(item)\n",
    "\n",
    "# # Run the Flask app\n",
    "# if __name__ == '__main__':\n",
    "#     app.run(debug=True)"
   ]
  },
  {
   "cell_type": "markdown",
   "id": "9890858c-8ce8-43ac-ad07-b1a0de8bc3f4",
   "metadata": {},
   "source": [
    "## 7. Handling errors in API\n",
    "There are instances where requests made to an API do not go as expected. Several factors on either the client or server-side could be at play. Regardless of the cause, the outcome is always the same: the request fails.\n",
    "\n",
    "When using REST APIs, it’s always a good idea to make your code resilient. However, before you can write robust code, you must understand how to manage the reported errors when things do not go to plan.  "
   ]
  },
  {
   "cell_type": "code",
   "execution_count": 188,
   "id": "8184e1eb-c7a2-4125-b9f5-1a5575397ac4",
   "metadata": {},
   "outputs": [
    {
     "name": "stdout",
     "output_type": "stream",
     "text": [
      "Error: 404 Client Error: Not Found for url: https://jsonplaceholder.typicode.com/postz\n",
      "Status Code: 404\n",
      "Response Text: {}\n"
     ]
    },
    {
     "data": {
      "text/plain": [
       "'\\n404 Client Error: Not Found for url: https://jsonplaceholder.typicode.com/postz\\n'"
      ]
     },
     "execution_count": 188,
     "metadata": {},
     "output_type": "execute_result"
    }
   ],
   "source": [
    "import requests\n",
    "# A deliberate typo is made in the endpoint \"postz\" instead of \"posts\"\n",
    "url = \"https://jsonplaceholder.typicode.com/postz\"\n",
    "\n",
    "# Attempt to GET data from provided endpoint\n",
    "try:\n",
    "    response = requests.get(url)\n",
    "    response.raise_for_status()  # Raise an HTTPError for bad responses (4xx or 5xx)\n",
    "except requests.exceptions.HTTPError as e:\n",
    "    print(f\"Error: {e}\")\n",
    "    print(f\"Status Code: {response.status_code}\")  # Print the status code of the response\n",
    "    print(f\"Response Text: {response.text}\")  # Print the response content if available\n",
    "except requests.exceptions.RequestException as e:\n",
    "    print(f\"An error occurred: {e}\")\n",
    "# If the request fails (404) then handle that error by printing the error.\n",
    "\n",
    "\"\"\"\n",
    "404 Client Error: Not Found for url: https://jsonplaceholder.typicode.com/postz\n",
    "\"\"\""
   ]
  },
  {
   "cell_type": "code",
   "execution_count": null,
   "id": "536e96a0-2145-48df-8b1e-e23e8e29f251",
   "metadata": {},
   "outputs": [],
   "source": []
  },
  {
   "cell_type": "code",
   "execution_count": null,
   "id": "7e852bdb-b63d-48c3-9398-5d3f47c32288",
   "metadata": {},
   "outputs": [],
   "source": []
  }
 ],
 "metadata": {
  "kernelspec": {
   "display_name": "Python 3 (ipykernel)",
   "language": "python",
   "name": "python3"
  },
  "language_info": {
   "codemirror_mode": {
    "name": "ipython",
    "version": 3
   },
   "file_extension": ".py",
   "mimetype": "text/x-python",
   "name": "python",
   "nbconvert_exporter": "python",
   "pygments_lexer": "ipython3",
   "version": "3.11.9"
  }
 },
 "nbformat": 4,
 "nbformat_minor": 5
}
